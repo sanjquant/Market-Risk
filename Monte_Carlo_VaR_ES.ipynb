{
  "nbformat": 4,
  "nbformat_minor": 0,
  "metadata": {
    "colab": {
      "provenance": []
    },
    "kernelspec": {
      "name": "python3",
      "display_name": "Python 3"
    },
    "language_info": {
      "name": "python"
    }
  },
  "cells": [
    {
      "cell_type": "code",
      "execution_count": 3,
      "metadata": {
        "colab": {
          "base_uri": "https://localhost:8080/"
        },
        "id": "jk2HnbtKkKP2",
        "outputId": "3c46a667-c3c2-43e8-a600-0be32089e03a"
      },
      "outputs": [
        {
          "output_type": "stream",
          "name": "stdout",
          "text": [
            "                  VaR_1d     ES_1d    VaR_10d     ES_10d\n",
            "Asset_A_Return  26035.85  29885.65   68939.79   81842.76\n",
            "Asset_B_Return  16751.79  19234.20   50820.46   58863.00\n",
            "Asset_C_Return  43516.01  49859.22  123005.28  144478.70\n",
            "Portfolio       18886.34  21622.58   49539.72   59108.34\n"
          ]
        }
      ],
      "source": [
        "import pandas as pd\n",
        "import numpy as np\n",
        "\n",
        "# -------------------- Parameters --------------------\n",
        "CL = 0.99\n",
        "# z = 2.3263478740408408  # (not used directly in MC; kept for reference)\n",
        "total_value = 1_000_000.0\n",
        "weights = np.array([0.5, 0.3, 0.2])\n",
        "\n",
        "N_SIMS = 40_000        # number of Monte Carlo scenarios\n",
        "N_STEPS_10D = 10       # steps for 10-day horizon\n",
        "RNG = np.random.default_rng(12345)  # set seed for reproducibility\n",
        "\n",
        "# -------------------- Load returns --------------------\n",
        "# If running locally, replace the path with your local path to the CSV\n",
        "returns = pd.read_csv(\"sample_data/3assets_returns.csv\", index_col=0, parse_dates=True)\n",
        "assets = list(returns.columns)\n",
        "assert len(assets) == 3, f\"Expected 3 assets, got {len(assets)}: {assets}\"\n",
        "\n",
        "# Estimate daily mean & covariance from historical data\n",
        "mu = returns.mean().values           # shape (3,)\n",
        "Sigma = returns.cov().values         # shape (3,3)\n",
        "\n",
        "# -------------------- Helper: VaR & ES from loss array --------------------\n",
        "alpha = CL\n",
        "\n",
        "def var_es(losses: np.ndarray, alpha: float = alpha) -> tuple[float, float]:\n",
        "    \"\"\"\n",
        "    Compute VaR and ES at level alpha from a 1D array of losses.\n",
        "    losses: positive = loss, higher = worse.\n",
        "    \"\"\"\n",
        "    var = float(np.percentile(losses, alpha * 100))\n",
        "    tail = losses[losses >= var]\n",
        "    es = float(tail.mean()) if tail.size > 0 else float(var)\n",
        "    return var, es\n",
        "\n",
        "# -------------------- 1-day Monte Carlo --------------------\n",
        "# Draw MVN returns for one day: shape (N_SIMS, 3)\n",
        "ret_1d = RNG.multivariate_normal(mean=mu, cov=Sigma, size=N_SIMS)\n",
        "\n",
        "# Losses (currency) for assets and portfolio\n",
        "losses_1d_assets = -ret_1d * total_value                      # (N,3)\n",
        "port_ret_1d = ret_1d @ weights                                # (N,)\n",
        "losses_1d_port = -port_ret_1d * total_value                   # (N,)\n",
        "\n",
        "# Compute VaR/ES per asset and portfolio (1d)\n",
        "var1d_assets, es1d_assets = [], []\n",
        "for j in range(3):\n",
        "    v, e = var_es(losses_1d_assets[:, j])\n",
        "    var1d_assets.append(v)\n",
        "    es1d_assets.append(e)\n",
        "var1d_port, es1d_port = var_es(losses_1d_port)\n",
        "\n",
        "# -------------------- 10-day Monte Carlo --------------------\n",
        "# Simulate 10-day paths explicitly and sum daily returns per scenario\n",
        "# paths shape: (N_SIMS, N_STEPS_10D, 3)\n",
        "paths = RNG.multivariate_normal(mean=mu, cov=Sigma, size=(N_SIMS, N_STEPS_10D))\n",
        "ret_10d = paths.sum(axis=1)                                   # (N,3)\n",
        "\n",
        "losses_10d_assets = -ret_10d * total_value                    # (N,3)\n",
        "port_ret_10d = ret_10d @ weights                              # (N,)\n",
        "losses_10d_port = -port_ret_10d * total_value                 # (N,)\n",
        "\n",
        "var10d_assets, es10d_assets = [], []\n",
        "for j in range(3):\n",
        "    v, e = var_es(losses_10d_assets[:, j])\n",
        "    var10d_assets.append(v)\n",
        "    es10d_assets.append(e)\n",
        "var10d_port, es10d_port = var_es(losses_10d_port)\n",
        "\n",
        "# -------------------- Results table --------------------\n",
        "results = pd.DataFrame({\n",
        "    \"VaR_1d\":  var1d_assets + [var1d_port],\n",
        "    \"ES_1d\":   es1d_assets + [es1d_port],\n",
        "    \"VaR_10d\": var10d_assets + [var10d_port],\n",
        "    \"ES_10d\":  es10d_assets + [es10d_port],\n",
        "}, index=assets + [\"Portfolio\"])\n",
        "\n",
        "# Show and save\n",
        "print(results.round(2))\n",
        "results.round(2).to_csv(\"sample_data/var_es_montecarlo_40k_results.csv\")\n"
      ]
    }
  ]
}