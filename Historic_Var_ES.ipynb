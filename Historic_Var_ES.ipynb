{
  "nbformat": 4,
  "nbformat_minor": 0,
  "metadata": {
    "colab": {
      "provenance": []
    },
    "kernelspec": {
      "name": "python3",
      "display_name": "Python 3"
    },
    "language_info": {
      "name": "python"
    }
  },
  "cells": [
    {
      "cell_type": "code",
      "execution_count": 7,
      "metadata": {
        "colab": {
          "base_uri": "https://localhost:8080/",
          "height": 0
        },
        "id": "r5bPQGUvbSDB",
        "outputId": "201007b6-57a4-4827-ffa3-a20771d1d246"
      },
      "outputs": [
        {
          "output_type": "stream",
          "name": "stdout",
          "text": [
            "                  VaR_1d     ES_1d    VaR_10d     ES_10d\n",
            "Asset_A_Return  27581.71  31599.39   87221.04   99926.05\n",
            "Asset_B_Return  17208.27  19714.91   54417.33   62344.01\n",
            "Asset_C_Return  45280.72  51876.52  143190.22  164047.95\n",
            "Portfolio       20187.01  23127.54   63836.93   73135.71\n"
          ]
        }
      ],
      "source": [
        "import pandas as pd\n",
        "import numpy as np\n",
        "from scipy.stats import norm\n",
        "\n",
        "# Given Parameters\n",
        "CL = 0.99\n",
        "z = 2.3263478740408408  # z-score for 99% confidence\n",
        "total_value = 1_000_000.0\n",
        "weights = np.array([0.5, 0.3, 0.2])\n",
        "\n",
        "# Load returns\n",
        "returns = pd.read_csv(\"sample_data/3assets_returns.csv\", index_col=0, parse_dates=True)\n",
        "\n",
        "# --- Step 1: compute daily std dev for each asset ---\n",
        "sigma_assets = returns.std()\n",
        "\n",
        "# --- Step 2: compute 1-day VaR and ES for each asset ---\n",
        "# VaR formula (normal): z * sigma * portfolio_value\n",
        "# ES formula: (pdf(z)/(1-CL)) * sigma * portfolio_value\n",
        "k = norm.pdf(z) / (1 - CL)\n",
        "\n",
        "var_1d_assets = z * sigma_assets * total_value\n",
        "es_1d_assets = k * sigma_assets * total_value\n",
        "\n",
        "# --- Step 3: scale to 10-day ---\n",
        "var_10d_assets = var_1d_assets * np.sqrt(10)\n",
        "es_10d_assets = es_1d_assets * np.sqrt(10)\n",
        "\n",
        "# --- Step 4: portfolio calculations ---\n",
        "# covariance matrix\n",
        "cov_matrix = returns.cov()\n",
        "\n",
        "# portfolio std dev\n",
        "sigma_portfolio = np.sqrt(weights @ cov_matrix.values @ weights.T)\n",
        "\n",
        "# portfolio risk measures\n",
        "var_1d_port = z * sigma_portfolio * total_value\n",
        "es_1d_port = k * sigma_portfolio * total_value\n",
        "var_10d_port = var_1d_port * np.sqrt(10)\n",
        "es_10d_port = es_1d_port * np.sqrt(10)\n",
        "\n",
        "# --- Step 5: Collect results into a table ---\n",
        "results = pd.DataFrame({\n",
        "    \"VaR_1d\": np.append(var_1d_assets.values, var_1d_port),\n",
        "    \"ES_1d\": np.append(es_1d_assets.values, es_1d_port),\n",
        "    \"VaR_10d\": np.append(var_10d_assets.values, var_10d_port),\n",
        "    \"ES_10d\": np.append(es_10d_assets.values, es_10d_port)\n",
        "}, index=list(sigma_assets.index) + [\"Portfolio\"])\n",
        "\n",
        "# Show rounded view for easy reading and also keep full precision in CSV\n",
        "results_rounded = results.round(2)\n",
        "\n",
        "# Display results\n",
        "print(results_rounded.round(2))\n",
        "\n",
        "# Save to CSV\n",
        "out_path = \"sample_data/var_es_historic_results.csv\"\n",
        "results_rounded.to_csv(out_path)\n"
      ]
    }
  ]
}