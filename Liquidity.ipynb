{
  "nbformat": 4,
  "nbformat_minor": 0,
  "metadata": {
    "colab": {
      "provenance": []
    },
    "kernelspec": {
      "name": "python3",
      "display_name": "Python 3"
    },
    "language_info": {
      "name": "python"
    }
  },
  "cells": [
    {
      "cell_type": "code",
      "execution_count": 3,
      "metadata": {
        "colab": {
          "base_uri": "https://localhost:8080/"
        },
        "id": "KzsRbNviovyF",
        "outputId": "b66cf49f-0ea2-42e5-d72e-0561bebf7e98"
      },
      "outputs": [
        {
          "output_type": "stream",
          "name": "stdout",
          "text": [
            "Liquidity Add-ons (per asset)                    Value  HalfSpread_bps  TTL_Days  Impact_bps  \\\n",
            "Asset                                                            \n",
            "Asset_A_Return  500000.0            10.0         3         5.0   \n",
            "Asset_B_Return  300000.0            15.0         3         8.0   \n",
            "Asset_C_Return  200000.0             8.0         3         4.0   \n",
            "\n",
            "                AddOn_spread_sqrtTTL  AddOn_impact  \n",
            "Asset                                               \n",
            "Asset_A_Return                866.03        433.01  \n",
            "Asset_B_Return                779.42        415.69  \n",
            "Asset_C_Return                277.13        138.56  \n",
            "Liquidity Metrics                           Value\n",
            "Metric                         \n",
            "Base_VaR_1d_Normal     20187.01\n",
            "Liquidity_AddOn_Total   2909.85\n",
            "LVaR_1d_Total          23096.86\n"
          ]
        }
      ],
      "source": [
        "import pandas as pd\n",
        "import numpy as np\n",
        "from scipy.stats import norm\n",
        "\n",
        "\n",
        "# -------------------- Parameters --------------------\n",
        "CL = 0.99\n",
        "z = 2.3263478740408408\n",
        "total_value = 1_000_000.0\n",
        "weights = np.array([0.5, 0.3, 0.2])  # must align with Asset_A, Asset_B, Asset_C\n",
        "\n",
        "# Load returns\n",
        "returns = pd.read_csv(\"sample_data/3assets_returns.csv\", index_col=0, parse_dates=True)\n",
        "assets = list(returns.columns)\n",
        "\n",
        "# -------------------- Base 1d Normal VaR --------------------\n",
        "cov = returns.cov().values\n",
        "sigma_p = float(np.sqrt(weights @ cov @ weights.T))\n",
        "base_var_1d_normal = z * sigma_p * total_value\n",
        "\n",
        "# -------------------- Liquidity parameters --------------------\n",
        "# Placeholder values (user can update with actual HalfSpread, TTL_Days, Impact_bps)\n",
        "values = total_value * weights\n",
        "liq_params = pd.DataFrame({\n",
        "    \"Asset\": assets,\n",
        "    \"Value\": values,\n",
        "    \"HalfSpread_bps\": [10.0, 15.0, 8.0],  # example half spreads in basis points\n",
        "    \"TTL_Days\": [3, 3, 3],                 # example time-to-liquidate\n",
        "    \"Impact_bps\": [5.0, 8.0, 4.0],         # example impact cost in bps\n",
        "})\n",
        "\n",
        "# -------------------- Liquidity Add-on calculations --------------------\n",
        "liq_params[\"AddOn_spread_sqrtTTL\"] = (\n",
        "    (liq_params[\"HalfSpread_bps\"] / 1e4) * liq_params[\"Value\"] * np.sqrt(liq_params[\"TTL_Days\"])\n",
        ")\n",
        "liq_params[\"AddOn_impact\"] = (\n",
        "    (liq_params[\"Impact_bps\"] / 1e4) * liq_params[\"Value\"] * np.sqrt(liq_params[\"TTL_Days\"])\n",
        ")\n",
        "\n",
        "liquidity_addon_total = float(liq_params[\"AddOn_spread_sqrtTTL\"].sum() + liq_params[\"AddOn_impact\"].sum())\n",
        "lvar_1d_total = base_var_1d_normal + liquidity_addon_total\n",
        "\n",
        "# -------------------- Output --------------------\n",
        "asset_table = liq_params.set_index(\"Asset\")\n",
        "metrics_table = pd.DataFrame({\n",
        "    \"Metric\": [\"Base_VaR_1d_Normal\", \"Liquidity_AddOn_Total\", \"LVaR_1d_Total\"],\n",
        "    \"Value\": [base_var_1d_normal, liquidity_addon_total, lvar_1d_total]\n",
        "}).set_index(\"Metric\")\n",
        "\n",
        "# Save\n",
        "asset_csv = \"sample_data/liquidity_addons_assets.csv\"\n",
        "metrics_csv = \"sample_data/liquidity_addons_metrics.csv\"\n",
        "asset_table.round(2).to_csv(asset_csv)\n",
        "metrics_table.round(2).to_csv(metrics_csv)\n",
        "\n",
        "# Display rounded\n",
        "print(\"Liquidity Add-ons (per asset)\", asset_table.round(2))\n",
        "print(\"Liquidity Metrics\", metrics_table.round(2))\n",
        "\n",
        "\n"
      ]
    },
    {
      "cell_type": "markdown",
      "source": [],
      "metadata": {
        "id": "rbZDzq_ctAjb"
      }
    }
  ]
}