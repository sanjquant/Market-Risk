{
  "nbformat": 4,
  "nbformat_minor": 0,
  "metadata": {
    "colab": {
      "provenance": []
    },
    "kernelspec": {
      "name": "python3",
      "display_name": "Python 3"
    },
    "language_info": {
      "name": "python"
    }
  },
  "cells": [
    {
      "cell_type": "code",
      "execution_count": 7,
      "metadata": {
        "colab": {
          "base_uri": "https://localhost:8080/"
        },
        "id": "2pUAkZNDfdBH",
        "outputId": "8d24745b-8c4d-4a91-fb53-f1233b709409"
      },
      "outputs": [
        {
          "output_type": "stream",
          "name": "stdout",
          "text": [
            "                  VaR_1d     ES_1d    VaR_10d     ES_10d\n",
            "Asset_A_Return  27581.71  31599.39   87221.04   99926.05\n",
            "Asset_B_Return  17208.27  19714.91   54417.33   62344.01\n",
            "Asset_C_Return  45280.72  51876.52  143190.22  164047.95\n",
            "Portfolio       20187.01  23127.54   63836.93   73135.71\n"
          ]
        }
      ],
      "source": [
        "import pandas as pd\n",
        "import numpy as np\n",
        "from scipy.stats import norm\n",
        "\n",
        "# Parameters\n",
        "CL = 0.99\n",
        "z = 2.3263478740408408  # z-score for 99% confidence\n",
        "total_value = 1_000_000.0\n",
        "weights = np.array([0.5, 0.3, 0.2])\n",
        "\n",
        "# Load returns (daily)\n",
        "returns = pd.read_csv(\"sample_data/3assets_returns.csv\", index_col=0, parse_dates=True)\n",
        "\n",
        "# Ensure column order matches weights (and consistent naming)\n",
        "assets = list(returns.columns)\n",
        "assert len(assets) == 3, f\"Expected 3 assets, found {len(assets)}: {assets}\"\n",
        "\n",
        "# Daily volatilities (sample std)\n",
        "sigma_assets = returns.std(ddof=1)  # sample std to match covariance.S\n",
        "\n",
        "# Normal VaR/ES multipliers\n",
        "k = norm.pdf(z) / (1 - CL)  # ES multiplier\n",
        "\n",
        "# Asset-level VaR/ES (1-day)\n",
        "var_1d_assets = z * sigma_assets * total_value\n",
        "es_1d_assets = k * sigma_assets * total_value\n",
        "\n",
        "# 10-day scaling (square-root-of-time)\n",
        "scale_10d = np.sqrt(10)\n",
        "var_10d_assets = var_1d_assets * scale_10d\n",
        "es_10d_assets = es_1d_assets * scale_10d\n",
        "\n",
        "# Portfolio std via covariance matrix\n",
        "cov_matrix = returns.cov()\n",
        "sigma_port = np.sqrt(weights @ cov_matrix.values @ weights.T)\n",
        "\n",
        "# Portfolio VaR/ES\n",
        "var_1d_port = z * sigma_port * total_value\n",
        "es_1d_port = k * sigma_port * total_value\n",
        "var_10d_port = var_1d_port * scale_10d\n",
        "es_10d_port = es_1d_port * scale_10d\n",
        "\n",
        "# Assemble results table\n",
        "results = pd.DataFrame({\n",
        "    \"VaR_1d\": pd.concat([var_1d_assets, pd.Series({\"Portfolio\": var_1d_port})]),\n",
        "    \"ES_1d\": pd.concat([es_1d_assets, pd.Series({\"Portfolio\": es_1d_port})]),\n",
        "    \"VaR_10d\": pd.concat([var_10d_assets, pd.Series({\"Portfolio\": var_10d_port})]),\n",
        "    \"ES_10d\": pd.concat([es_10d_assets, pd.Series({\"Portfolio\": es_10d_port})]),\n",
        "})\n",
        "\n",
        "# Reorder rows to Assets then Portfolio\n",
        "order = assets + [\"Portfolio\"]\n",
        "results = results.loc[order]\n",
        "\n",
        "# Show rounded view for easy reading and also keep full precision in CSV\n",
        "results_rounded = results.round(2)\n",
        "\n",
        "print(results_rounded)\n",
        "\n",
        "\n",
        "# Save to CSV\n",
        "out_path = \"sample_data/var_es_normal_results.csv\"\n",
        "results_rounded.to_csv(out_path)\n",
        "\n"
      ]
    }
  ]
}
